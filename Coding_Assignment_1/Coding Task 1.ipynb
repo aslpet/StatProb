{
 "cells": [
  {
   "cell_type": "markdown",
   "id": "f5a99e2b-33f3-408a-90bf-88ebc6b3755b",
   "metadata": {},
   "source": [
    "# Analisis Data Assignment 1"
   ]
  },
  {
   "cell_type": "markdown",
   "id": "69e67836-fb38-4cf9-a00e-4c5e06df5c0f",
   "metadata": {},
   "source": [
    "## Anggota Kelompok "
   ]
  },
  {
   "cell_type": "markdown",
   "id": "d94975f2-18bc-491a-bb07-f61a786d8449",
   "metadata": {},
   "source": [
    "- Ahmad Rafi F.D - 5027241068\n",
    "\n",
    "- Angga Firmansyah - 5027241062\n",
    "\n",
    "- Muhammad Khosyi Syehab - 5027241089\n",
    "\n",
    "- Zein Muhammad Hasan - 502724103535\r"
   ]
  },
  {
   "cell_type": "markdown",
   "id": "7db425ad-fa82-44ca-89a6-6c7c9ce58afc",
   "metadata": {},
   "source": [
    "## Data Exploration"
   ]
  },
  {
   "cell_type": "code",
   "execution_count": 114,
   "id": "b7a281d2-d043-42c8-a4bf-378361eef824",
   "metadata": {},
   "outputs": [],
   "source": [
    "import pandas as pd\n",
    "import numpy as np\n",
    "penjualan_df = pd.read_excel('Dataset.xlsx', sheet_name='Sheet1')"
   ]
  },
  {
   "cell_type": "code",
   "execution_count": 115,
   "id": "06f13b1a-1385-4a44-9ffc-ae340de60dda",
   "metadata": {},
   "outputs": [
    {
     "data": {
      "text/html": [
       "<div>\n",
       "<style scoped>\n",
       "    .dataframe tbody tr th:only-of-type {\n",
       "        vertical-align: middle;\n",
       "    }\n",
       "\n",
       "    .dataframe tbody tr th {\n",
       "        vertical-align: top;\n",
       "    }\n",
       "\n",
       "    .dataframe thead th {\n",
       "        text-align: right;\n",
       "    }\n",
       "</style>\n",
       "<table border=\"1\" class=\"dataframe\">\n",
       "  <thead>\n",
       "    <tr style=\"text-align: right;\">\n",
       "      <th></th>\n",
       "      <th>Tanggal</th>\n",
       "      <th>Curah Hujan (mm)</th>\n",
       "      <th>Penjualan A (pcs)</th>\n",
       "      <th>Penjualan B (pcs)</th>\n",
       "    </tr>\n",
       "  </thead>\n",
       "  <tbody>\n",
       "    <tr>\n",
       "      <th>0</th>\n",
       "      <td>1</td>\n",
       "      <td>1.4</td>\n",
       "      <td>0</td>\n",
       "      <td>507</td>\n",
       "    </tr>\n",
       "    <tr>\n",
       "      <th>1</th>\n",
       "      <td>2</td>\n",
       "      <td>1.2</td>\n",
       "      <td>27</td>\n",
       "      <td>61</td>\n",
       "    </tr>\n",
       "    <tr>\n",
       "      <th>2</th>\n",
       "      <td>3</td>\n",
       "      <td>15.2</td>\n",
       "      <td>458</td>\n",
       "      <td>367</td>\n",
       "    </tr>\n",
       "    <tr>\n",
       "      <th>3</th>\n",
       "      <td>4</td>\n",
       "      <td>13.4</td>\n",
       "      <td>20</td>\n",
       "      <td>21</td>\n",
       "    </tr>\n",
       "    <tr>\n",
       "      <th>4</th>\n",
       "      <td>5</td>\n",
       "      <td>7.7</td>\n",
       "      <td>7</td>\n",
       "      <td>0</td>\n",
       "    </tr>\n",
       "    <tr>\n",
       "      <th>...</th>\n",
       "      <td>...</td>\n",
       "      <td>...</td>\n",
       "      <td>...</td>\n",
       "      <td>...</td>\n",
       "    </tr>\n",
       "    <tr>\n",
       "      <th>116</th>\n",
       "      <td>4</td>\n",
       "      <td>2.2</td>\n",
       "      <td>430</td>\n",
       "      <td>421</td>\n",
       "    </tr>\n",
       "    <tr>\n",
       "      <th>117</th>\n",
       "      <td>5</td>\n",
       "      <td>0.5</td>\n",
       "      <td>208</td>\n",
       "      <td>24</td>\n",
       "    </tr>\n",
       "    <tr>\n",
       "      <th>118</th>\n",
       "      <td>6</td>\n",
       "      <td>33.4</td>\n",
       "      <td>200</td>\n",
       "      <td>189</td>\n",
       "    </tr>\n",
       "    <tr>\n",
       "      <th>119</th>\n",
       "      <td>7</td>\n",
       "      <td>0.0</td>\n",
       "      <td>0</td>\n",
       "      <td>324</td>\n",
       "    </tr>\n",
       "    <tr>\n",
       "      <th>120</th>\n",
       "      <td>8</td>\n",
       "      <td>0.0</td>\n",
       "      <td>143</td>\n",
       "      <td>315</td>\n",
       "    </tr>\n",
       "  </tbody>\n",
       "</table>\n",
       "<p>121 rows × 4 columns</p>\n",
       "</div>"
      ],
      "text/plain": [
       "     Tanggal  Curah Hujan (mm)  Penjualan A (pcs)  Penjualan B (pcs)\n",
       "0          1               1.4                  0                507\n",
       "1          2               1.2                 27                 61\n",
       "2          3              15.2                458                367\n",
       "3          4              13.4                 20                 21\n",
       "4          5               7.7                  7                  0\n",
       "..       ...               ...                ...                ...\n",
       "116        4               2.2                430                421\n",
       "117        5               0.5                208                 24\n",
       "118        6              33.4                200                189\n",
       "119        7               0.0                  0                324\n",
       "120        8               0.0                143                315\n",
       "\n",
       "[121 rows x 4 columns]"
      ]
     },
     "execution_count": 115,
     "metadata": {},
     "output_type": "execute_result"
    }
   ],
   "source": [
    "penjualan_df"
   ]
  },
  {
   "cell_type": "code",
   "execution_count": 116,
   "id": "8962f985-91d1-45cd-b6c1-854f7c723bcb",
   "metadata": {},
   "outputs": [
    {
     "data": {
      "text/plain": [
       "Tanggal              0\n",
       "Curah Hujan (mm)     0\n",
       "Penjualan A (pcs)    0\n",
       "Penjualan B (pcs)    0\n",
       "dtype: int64"
      ]
     },
     "execution_count": 116,
     "metadata": {},
     "output_type": "execute_result"
    }
   ],
   "source": [
    "penjualan_df.isnull().sum()"
   ]
  },
  {
   "cell_type": "code",
   "execution_count": 118,
   "id": "b0e6751e-bde4-47d3-8449-e28edfd50574",
   "metadata": {},
   "outputs": [
    {
     "data": {
      "text/html": [
       "<div>\n",
       "<style scoped>\n",
       "    .dataframe tbody tr th:only-of-type {\n",
       "        vertical-align: middle;\n",
       "    }\n",
       "\n",
       "    .dataframe tbody tr th {\n",
       "        vertical-align: top;\n",
       "    }\n",
       "\n",
       "    .dataframe thead th {\n",
       "        text-align: right;\n",
       "    }\n",
       "</style>\n",
       "<table border=\"1\" class=\"dataframe\">\n",
       "  <thead>\n",
       "    <tr style=\"text-align: right;\">\n",
       "      <th></th>\n",
       "      <th>Tanggal</th>\n",
       "      <th>Curah Hujan (mm)</th>\n",
       "      <th>Penjualan A (pcs)</th>\n",
       "      <th>Penjualan B (pcs)</th>\n",
       "    </tr>\n",
       "  </thead>\n",
       "  <tbody>\n",
       "    <tr>\n",
       "      <th>count</th>\n",
       "      <td>121.000000</td>\n",
       "      <td>121.000000</td>\n",
       "      <td>121.000000</td>\n",
       "      <td>121.000000</td>\n",
       "    </tr>\n",
       "    <tr>\n",
       "      <th>mean</th>\n",
       "      <td>15.123967</td>\n",
       "      <td>14.259504</td>\n",
       "      <td>131.834711</td>\n",
       "      <td>205.545455</td>\n",
       "    </tr>\n",
       "    <tr>\n",
       "      <th>std</th>\n",
       "      <td>9.218252</td>\n",
       "      <td>27.540254</td>\n",
       "      <td>141.596866</td>\n",
       "      <td>160.085134</td>\n",
       "    </tr>\n",
       "    <tr>\n",
       "      <th>min</th>\n",
       "      <td>1.000000</td>\n",
       "      <td>0.000000</td>\n",
       "      <td>0.000000</td>\n",
       "      <td>0.000000</td>\n",
       "    </tr>\n",
       "    <tr>\n",
       "      <th>25%</th>\n",
       "      <td>7.000000</td>\n",
       "      <td>0.000000</td>\n",
       "      <td>5.000000</td>\n",
       "      <td>80.000000</td>\n",
       "    </tr>\n",
       "    <tr>\n",
       "      <th>50%</th>\n",
       "      <td>15.000000</td>\n",
       "      <td>2.100000</td>\n",
       "      <td>52.000000</td>\n",
       "      <td>157.000000</td>\n",
       "    </tr>\n",
       "    <tr>\n",
       "      <th>75%</th>\n",
       "      <td>23.000000</td>\n",
       "      <td>16.400000</td>\n",
       "      <td>238.000000</td>\n",
       "      <td>324.000000</td>\n",
       "    </tr>\n",
       "    <tr>\n",
       "      <th>max</th>\n",
       "      <td>31.000000</td>\n",
       "      <td>170.600000</td>\n",
       "      <td>458.000000</td>\n",
       "      <td>545.000000</td>\n",
       "    </tr>\n",
       "  </tbody>\n",
       "</table>\n",
       "</div>"
      ],
      "text/plain": [
       "          Tanggal  Curah Hujan (mm)  Penjualan A (pcs)  Penjualan B (pcs)\n",
       "count  121.000000        121.000000         121.000000         121.000000\n",
       "mean    15.123967         14.259504         131.834711         205.545455\n",
       "std      9.218252         27.540254         141.596866         160.085134\n",
       "min      1.000000          0.000000           0.000000           0.000000\n",
       "25%      7.000000          0.000000           5.000000          80.000000\n",
       "50%     15.000000          2.100000          52.000000         157.000000\n",
       "75%     23.000000         16.400000         238.000000         324.000000\n",
       "max     31.000000        170.600000         458.000000         545.000000"
      ]
     },
     "execution_count": 118,
     "metadata": {},
     "output_type": "execute_result"
    }
   ],
   "source": [
    "penjualan_df.describe()"
   ]
  },
  {
   "cell_type": "markdown",
   "id": "3982c725-2dac-4819-9669-984c94325c64",
   "metadata": {},
   "source": [
    "## Deskripsi Statistik (analisis ukuran pemusatan dan persebaran data)"
   ]
  },
  {
   "cell_type": "markdown",
   "id": "53275ace-a8a1-4d7f-855a-93294b000e0a",
   "metadata": {},
   "source": [
    "### Mean"
   ]
  },
  {
   "cell_type": "code",
   "execution_count": 124,
   "id": "cf5a80a1-0746-4da4-8d01-71532f25ee81",
   "metadata": {},
   "outputs": [
    {
     "data": {
      "text/html": [
       "<div>\n",
       "<style scoped>\n",
       "    .dataframe tbody tr th:only-of-type {\n",
       "        vertical-align: middle;\n",
       "    }\n",
       "\n",
       "    .dataframe tbody tr th {\n",
       "        vertical-align: top;\n",
       "    }\n",
       "\n",
       "    .dataframe thead th {\n",
       "        text-align: right;\n",
       "    }\n",
       "</style>\n",
       "<table border=\"1\" class=\"dataframe\">\n",
       "  <thead>\n",
       "    <tr style=\"text-align: right;\">\n",
       "      <th></th>\n",
       "      <th>Variable</th>\n",
       "      <th>Mean Value</th>\n",
       "    </tr>\n",
       "  </thead>\n",
       "  <tbody>\n",
       "    <tr>\n",
       "      <th>0</th>\n",
       "      <td>Curah Hujan (mm)</td>\n",
       "      <td>14.259504</td>\n",
       "    </tr>\n",
       "    <tr>\n",
       "      <th>1</th>\n",
       "      <td>Penjualan A (pcs)</td>\n",
       "      <td>131.834711</td>\n",
       "    </tr>\n",
       "    <tr>\n",
       "      <th>2</th>\n",
       "      <td>Penjualan B (pcs)</td>\n",
       "      <td>205.545455</td>\n",
       "    </tr>\n",
       "  </tbody>\n",
       "</table>\n",
       "</div>"
      ],
      "text/plain": [
       "            Variable  Mean Value\n",
       "0   Curah Hujan (mm)   14.259504\n",
       "1  Penjualan A (pcs)  131.834711\n",
       "2  Penjualan B (pcs)  205.545455"
      ]
     },
     "execution_count": 124,
     "metadata": {},
     "output_type": "execute_result"
    }
   ],
   "source": [
    "mean_values = penjualan_df[['Curah Hujan (mm)', 'Penjualan A (pcs)', 'Penjualan B (pcs)']].mean()\n",
    "mean_table = mean_values.reset_index()\n",
    "mean_table.columns = ['Variable', 'Mean Value']\n",
    "\n",
    "mean_table"
   ]
  },
  {
   "cell_type": "markdown",
   "id": "7099cefb-8246-457a-bce5-0adb01e5f910",
   "metadata": {},
   "source": [
    "### Median"
   ]
  },
  {
   "cell_type": "code",
   "execution_count": 127,
   "id": "48e8b308-d228-4bb7-bd2c-d7350a174ba0",
   "metadata": {},
   "outputs": [
    {
     "data": {
      "text/html": [
       "<div>\n",
       "<style scoped>\n",
       "    .dataframe tbody tr th:only-of-type {\n",
       "        vertical-align: middle;\n",
       "    }\n",
       "\n",
       "    .dataframe tbody tr th {\n",
       "        vertical-align: top;\n",
       "    }\n",
       "\n",
       "    .dataframe thead th {\n",
       "        text-align: right;\n",
       "    }\n",
       "</style>\n",
       "<table border=\"1\" class=\"dataframe\">\n",
       "  <thead>\n",
       "    <tr style=\"text-align: right;\">\n",
       "      <th></th>\n",
       "      <th>Variable</th>\n",
       "      <th>Median Value</th>\n",
       "    </tr>\n",
       "  </thead>\n",
       "  <tbody>\n",
       "    <tr>\n",
       "      <th>0</th>\n",
       "      <td>Curah Hujan (mm)</td>\n",
       "      <td>2.1</td>\n",
       "    </tr>\n",
       "    <tr>\n",
       "      <th>1</th>\n",
       "      <td>Penjualan A (pcs)</td>\n",
       "      <td>52.0</td>\n",
       "    </tr>\n",
       "    <tr>\n",
       "      <th>2</th>\n",
       "      <td>Penjualan B (pcs)</td>\n",
       "      <td>157.0</td>\n",
       "    </tr>\n",
       "  </tbody>\n",
       "</table>\n",
       "</div>"
      ],
      "text/plain": [
       "            Variable  Median Value\n",
       "0   Curah Hujan (mm)           2.1\n",
       "1  Penjualan A (pcs)          52.0\n",
       "2  Penjualan B (pcs)         157.0"
      ]
     },
     "execution_count": 127,
     "metadata": {},
     "output_type": "execute_result"
    }
   ],
   "source": [
    "median_values = penjualan_df[['Curah Hujan (mm)', 'Penjualan A (pcs)', 'Penjualan B (pcs)']].median()\n",
    "median_table = median_values.reset_index()\n",
    "median_table.columns = ['Variable', 'Median Value']\n",
    "\n",
    "median_table"
   ]
  },
  {
   "cell_type": "markdown",
   "id": "2de851b8-6477-49c1-a460-0f2315d8d73d",
   "metadata": {},
   "source": [
    "### Modus"
   ]
  },
  {
   "cell_type": "code",
   "execution_count": 130,
   "id": "057c201a-813a-46bc-9254-755864f74c55",
   "metadata": {},
   "outputs": [
    {
     "data": {
      "text/html": [
       "<div>\n",
       "<style scoped>\n",
       "    .dataframe tbody tr th:only-of-type {\n",
       "        vertical-align: middle;\n",
       "    }\n",
       "\n",
       "    .dataframe tbody tr th {\n",
       "        vertical-align: top;\n",
       "    }\n",
       "\n",
       "    .dataframe thead th {\n",
       "        text-align: right;\n",
       "    }\n",
       "</style>\n",
       "<table border=\"1\" class=\"dataframe\">\n",
       "  <thead>\n",
       "    <tr style=\"text-align: right;\">\n",
       "      <th></th>\n",
       "      <th>Variable</th>\n",
       "      <th>Mode Value</th>\n",
       "    </tr>\n",
       "  </thead>\n",
       "  <tbody>\n",
       "    <tr>\n",
       "      <th>0</th>\n",
       "      <td>Curah Hujan (mm)</td>\n",
       "      <td>0.0</td>\n",
       "    </tr>\n",
       "    <tr>\n",
       "      <th>1</th>\n",
       "      <td>Penjualan A (pcs)</td>\n",
       "      <td>0.0</td>\n",
       "    </tr>\n",
       "    <tr>\n",
       "      <th>2</th>\n",
       "      <td>Penjualan B (pcs)</td>\n",
       "      <td>0.0</td>\n",
       "    </tr>\n",
       "  </tbody>\n",
       "</table>\n",
       "</div>"
      ],
      "text/plain": [
       "            Variable  Mode Value\n",
       "0   Curah Hujan (mm)         0.0\n",
       "1  Penjualan A (pcs)         0.0\n",
       "2  Penjualan B (pcs)         0.0"
      ]
     },
     "execution_count": 130,
     "metadata": {},
     "output_type": "execute_result"
    }
   ],
   "source": [
    "mode_values = penjualan_df[['Curah Hujan (mm)', 'Penjualan A (pcs)', 'Penjualan B (pcs)']].mode()\n",
    "mode_table = mode_values.T.reset_index()\n",
    "mode_table.columns = ['Variable', 'Mode Value']\n",
    "\n",
    "mode_table"
   ]
  },
  {
   "cell_type": "markdown",
   "id": "9fa5aab7-3869-4b9f-ba66-85a1fdd6a1c2",
   "metadata": {},
   "source": [
    "### Range / Jangkauan"
   ]
  },
  {
   "cell_type": "code",
   "execution_count": 133,
   "id": "e75d5d83-2e7b-4f29-b4ad-4d598ad3d72e",
   "metadata": {},
   "outputs": [
    {
     "data": {
      "text/html": [
       "<div>\n",
       "<style scoped>\n",
       "    .dataframe tbody tr th:only-of-type {\n",
       "        vertical-align: middle;\n",
       "    }\n",
       "\n",
       "    .dataframe tbody tr th {\n",
       "        vertical-align: top;\n",
       "    }\n",
       "\n",
       "    .dataframe thead th {\n",
       "        text-align: right;\n",
       "    }\n",
       "</style>\n",
       "<table border=\"1\" class=\"dataframe\">\n",
       "  <thead>\n",
       "    <tr style=\"text-align: right;\">\n",
       "      <th></th>\n",
       "      <th>Variable</th>\n",
       "      <th>Range Value</th>\n",
       "    </tr>\n",
       "  </thead>\n",
       "  <tbody>\n",
       "    <tr>\n",
       "      <th>0</th>\n",
       "      <td>Curah Hujan (mm)</td>\n",
       "      <td>170.6</td>\n",
       "    </tr>\n",
       "    <tr>\n",
       "      <th>1</th>\n",
       "      <td>Penjualan A (pcs)</td>\n",
       "      <td>458.0</td>\n",
       "    </tr>\n",
       "    <tr>\n",
       "      <th>2</th>\n",
       "      <td>Penjualan B (pcs)</td>\n",
       "      <td>545.0</td>\n",
       "    </tr>\n",
       "  </tbody>\n",
       "</table>\n",
       "</div>"
      ],
      "text/plain": [
       "            Variable  Range Value\n",
       "0   Curah Hujan (mm)        170.6\n",
       "1  Penjualan A (pcs)        458.0\n",
       "2  Penjualan B (pcs)        545.0"
      ]
     },
     "execution_count": 133,
     "metadata": {},
     "output_type": "execute_result"
    }
   ],
   "source": [
    "range_values = penjualan_df[['Curah Hujan (mm)', 'Penjualan A (pcs)', 'Penjualan B (pcs)']].max() - penjualan_df[['Curah Hujan (mm)', 'Penjualan A (pcs)', 'Penjualan B (pcs)']].min()\n",
    "range_table = range_values.reset_index()\n",
    "range_table.columns = ['Variable', 'Range Value']\n",
    "range_table"
   ]
  },
  {
   "cell_type": "markdown",
   "id": "53f69b9f-c509-4ff5-91a2-12aceeec8623",
   "metadata": {},
   "source": [
    "### IQR"
   ]
  },
  {
   "cell_type": "code",
   "execution_count": 136,
   "id": "04591852-957c-4b28-b357-2c6e71dfdd86",
   "metadata": {},
   "outputs": [
    {
     "data": {
      "text/html": [
       "<div>\n",
       "<style scoped>\n",
       "    .dataframe tbody tr th:only-of-type {\n",
       "        vertical-align: middle;\n",
       "    }\n",
       "\n",
       "    .dataframe tbody tr th {\n",
       "        vertical-align: top;\n",
       "    }\n",
       "\n",
       "    .dataframe thead th {\n",
       "        text-align: right;\n",
       "    }\n",
       "</style>\n",
       "<table border=\"1\" class=\"dataframe\">\n",
       "  <thead>\n",
       "    <tr style=\"text-align: right;\">\n",
       "      <th></th>\n",
       "      <th>Variable</th>\n",
       "      <th>IQR Value</th>\n",
       "    </tr>\n",
       "  </thead>\n",
       "  <tbody>\n",
       "    <tr>\n",
       "      <th>0</th>\n",
       "      <td>Curah Hujan (mm)</td>\n",
       "      <td>16.4</td>\n",
       "    </tr>\n",
       "    <tr>\n",
       "      <th>1</th>\n",
       "      <td>Penjualan A (pcs)</td>\n",
       "      <td>233.0</td>\n",
       "    </tr>\n",
       "    <tr>\n",
       "      <th>2</th>\n",
       "      <td>Penjualan B (pcs)</td>\n",
       "      <td>244.0</td>\n",
       "    </tr>\n",
       "  </tbody>\n",
       "</table>\n",
       "</div>"
      ],
      "text/plain": [
       "            Variable  IQR Value\n",
       "0   Curah Hujan (mm)       16.4\n",
       "1  Penjualan A (pcs)      233.0\n",
       "2  Penjualan B (pcs)      244.0"
      ]
     },
     "execution_count": 136,
     "metadata": {},
     "output_type": "execute_result"
    }
   ],
   "source": [
    "IQR_values = penjualan_df[['Curah Hujan (mm)', 'Penjualan A (pcs)', 'Penjualan B (pcs)']].quantile(0.75) - penjualan_df[['Curah Hujan (mm)', 'Penjualan A (pcs)', 'Penjualan B (pcs)']].quantile(0.25)\n",
    "IQR_table = IQR_values.reset_index()\n",
    "IQR_table.columns = ['Variable', 'IQR Value']\n",
    "IQR_table"
   ]
  },
  {
   "cell_type": "markdown",
   "id": "3111ec5a-15d5-4797-ba9a-812bf40c5d8c",
   "metadata": {},
   "source": [
    "### Variance"
   ]
  },
  {
   "cell_type": "code",
   "execution_count": 22,
   "id": "67b5f7cb-6b3c-4896-a1db-521e1e0e7143",
   "metadata": {},
   "outputs": [
    {
     "data": {
      "text/html": [
       "<div>\n",
       "<style scoped>\n",
       "    .dataframe tbody tr th:only-of-type {\n",
       "        vertical-align: middle;\n",
       "    }\n",
       "\n",
       "    .dataframe tbody tr th {\n",
       "        vertical-align: top;\n",
       "    }\n",
       "\n",
       "    .dataframe thead th {\n",
       "        text-align: right;\n",
       "    }\n",
       "</style>\n",
       "<table border=\"1\" class=\"dataframe\">\n",
       "  <thead>\n",
       "    <tr style=\"text-align: right;\">\n",
       "      <th></th>\n",
       "      <th>Variable</th>\n",
       "      <th>Variance Value</th>\n",
       "    </tr>\n",
       "  </thead>\n",
       "  <tbody>\n",
       "    <tr>\n",
       "      <th>0</th>\n",
       "      <td>Curah Hujan (mm)</td>\n",
       "      <td>758.465596</td>\n",
       "    </tr>\n",
       "    <tr>\n",
       "      <th>1</th>\n",
       "      <td>Penjualan A (pcs)</td>\n",
       "      <td>20049.672452</td>\n",
       "    </tr>\n",
       "    <tr>\n",
       "      <th>2</th>\n",
       "      <td>Penjualan B (pcs)</td>\n",
       "      <td>25627.250000</td>\n",
       "    </tr>\n",
       "  </tbody>\n",
       "</table>\n",
       "</div>"
      ],
      "text/plain": [
       "            Variable  Variance Value\n",
       "0   Curah Hujan (mm)      758.465596\n",
       "1  Penjualan A (pcs)    20049.672452\n",
       "2  Penjualan B (pcs)    25627.250000"
      ]
     },
     "execution_count": 22,
     "metadata": {},
     "output_type": "execute_result"
    }
   ],
   "source": [
    "variance = penjualan_df[['Curah Hujan (mm)', 'Penjualan A (pcs)', 'Penjualan B (pcs)']].var()\n",
    "variance_table = variance.reset_index()\n",
    "variance_table.columns = ['Variable', 'Variance Value']\n",
    "variance_table"
   ]
  },
  {
   "cell_type": "markdown",
   "id": "d77a52d2-8be6-4dce-ab35-78ade6162119",
   "metadata": {},
   "source": [
    "### Standard Deviation"
   ]
  },
  {
   "cell_type": "code",
   "execution_count": 24,
   "id": "b5e278fd-74d8-4d2d-b4bc-cac568b27897",
   "metadata": {},
   "outputs": [
    {
     "data": {
      "text/html": [
       "<div>\n",
       "<style scoped>\n",
       "    .dataframe tbody tr th:only-of-type {\n",
       "        vertical-align: middle;\n",
       "    }\n",
       "\n",
       "    .dataframe tbody tr th {\n",
       "        vertical-align: top;\n",
       "    }\n",
       "\n",
       "    .dataframe thead th {\n",
       "        text-align: right;\n",
       "    }\n",
       "</style>\n",
       "<table border=\"1\" class=\"dataframe\">\n",
       "  <thead>\n",
       "    <tr style=\"text-align: right;\">\n",
       "      <th></th>\n",
       "      <th>Variable</th>\n",
       "      <th>STD Value</th>\n",
       "    </tr>\n",
       "  </thead>\n",
       "  <tbody>\n",
       "    <tr>\n",
       "      <th>0</th>\n",
       "      <td>Curah Hujan (mm)</td>\n",
       "      <td>27.540254</td>\n",
       "    </tr>\n",
       "    <tr>\n",
       "      <th>1</th>\n",
       "      <td>Penjualan A (pcs)</td>\n",
       "      <td>141.596866</td>\n",
       "    </tr>\n",
       "    <tr>\n",
       "      <th>2</th>\n",
       "      <td>Penjualan B (pcs)</td>\n",
       "      <td>160.085134</td>\n",
       "    </tr>\n",
       "  </tbody>\n",
       "</table>\n",
       "</div>"
      ],
      "text/plain": [
       "            Variable   STD Value\n",
       "0   Curah Hujan (mm)   27.540254\n",
       "1  Penjualan A (pcs)  141.596866\n",
       "2  Penjualan B (pcs)  160.085134"
      ]
     },
     "execution_count": 24,
     "metadata": {},
     "output_type": "execute_result"
    }
   ],
   "source": [
    "std = penjualan_df[['Curah Hujan (mm)', 'Penjualan A (pcs)', 'Penjualan B (pcs)']].std()\n",
    "std_table = std.reset_index()\n",
    "std_table.columns = ['Variable', 'STD Value']\n",
    "std_table"
   ]
  },
  {
   "cell_type": "markdown",
   "id": "9749cd19-17b6-4ca0-bd79-c7f7247a675d",
   "metadata": {},
   "source": [
    "### Skewness"
   ]
  },
  {
   "cell_type": "code",
   "execution_count": 26,
   "id": "c0758ba8-fca8-46ff-8cad-a05e7879a4ec",
   "metadata": {},
   "outputs": [
    {
     "data": {
      "text/html": [
       "<div>\n",
       "<style scoped>\n",
       "    .dataframe tbody tr th:only-of-type {\n",
       "        vertical-align: middle;\n",
       "    }\n",
       "\n",
       "    .dataframe tbody tr th {\n",
       "        vertical-align: top;\n",
       "    }\n",
       "\n",
       "    .dataframe thead th {\n",
       "        text-align: right;\n",
       "    }\n",
       "</style>\n",
       "<table border=\"1\" class=\"dataframe\">\n",
       "  <thead>\n",
       "    <tr style=\"text-align: right;\">\n",
       "      <th></th>\n",
       "      <th>Variable</th>\n",
       "      <th>Skewness Value</th>\n",
       "    </tr>\n",
       "  </thead>\n",
       "  <tbody>\n",
       "    <tr>\n",
       "      <th>0</th>\n",
       "      <td>Curah Hujan (mm)</td>\n",
       "      <td>3.635598</td>\n",
       "    </tr>\n",
       "    <tr>\n",
       "      <th>1</th>\n",
       "      <td>Penjualan A (pcs)</td>\n",
       "      <td>0.708652</td>\n",
       "    </tr>\n",
       "    <tr>\n",
       "      <th>2</th>\n",
       "      <td>Penjualan B (pcs)</td>\n",
       "      <td>0.601558</td>\n",
       "    </tr>\n",
       "  </tbody>\n",
       "</table>\n",
       "</div>"
      ],
      "text/plain": [
       "            Variable  Skewness Value\n",
       "0   Curah Hujan (mm)        3.635598\n",
       "1  Penjualan A (pcs)        0.708652\n",
       "2  Penjualan B (pcs)        0.601558"
      ]
     },
     "execution_count": 26,
     "metadata": {},
     "output_type": "execute_result"
    }
   ],
   "source": [
    "skew = penjualan_df[['Curah Hujan (mm)', 'Penjualan A (pcs)', 'Penjualan B (pcs)']].skew()\n",
    "skew_table = skew.reset_index()\n",
    "skew_table.columns = ['Variable', 'Skewness Value']\n",
    "skew_table"
   ]
  },
  {
   "cell_type": "markdown",
   "id": "f0115820-c67a-4121-b4ba-89f58c7e4d5a",
   "metadata": {},
   "source": [
    "### Kurtosis"
   ]
  },
  {
   "cell_type": "code",
   "execution_count": 28,
   "id": "a473db42-c577-452a-82e0-fe298f426c4a",
   "metadata": {},
   "outputs": [
    {
     "data": {
      "text/html": [
       "<div>\n",
       "<style scoped>\n",
       "    .dataframe tbody tr th:only-of-type {\n",
       "        vertical-align: middle;\n",
       "    }\n",
       "\n",
       "    .dataframe tbody tr th {\n",
       "        vertical-align: top;\n",
       "    }\n",
       "\n",
       "    .dataframe thead th {\n",
       "        text-align: right;\n",
       "    }\n",
       "</style>\n",
       "<table border=\"1\" class=\"dataframe\">\n",
       "  <thead>\n",
       "    <tr style=\"text-align: right;\">\n",
       "      <th></th>\n",
       "      <th>Variable</th>\n",
       "      <th>Kurtosis Value</th>\n",
       "    </tr>\n",
       "  </thead>\n",
       "  <tbody>\n",
       "    <tr>\n",
       "      <th>0</th>\n",
       "      <td>Curah Hujan (mm)</td>\n",
       "      <td>16.575639</td>\n",
       "    </tr>\n",
       "    <tr>\n",
       "      <th>1</th>\n",
       "      <td>Penjualan A (pcs)</td>\n",
       "      <td>-0.856078</td>\n",
       "    </tr>\n",
       "    <tr>\n",
       "      <th>2</th>\n",
       "      <td>Penjualan B (pcs)</td>\n",
       "      <td>-0.815513</td>\n",
       "    </tr>\n",
       "  </tbody>\n",
       "</table>\n",
       "</div>"
      ],
      "text/plain": [
       "            Variable  Kurtosis Value\n",
       "0   Curah Hujan (mm)       16.575639\n",
       "1  Penjualan A (pcs)       -0.856078\n",
       "2  Penjualan B (pcs)       -0.815513"
      ]
     },
     "execution_count": 28,
     "metadata": {},
     "output_type": "execute_result"
    }
   ],
   "source": [
    "kurtosis = penjualan_df[['Curah Hujan (mm)', 'Penjualan A (pcs)', 'Penjualan B (pcs)']].kurtosis()\n",
    "kurtosis_table = kurtosis.reset_index()\n",
    "kurtosis_table.columns = ['Variable', 'Kurtosis Value']\n",
    "kurtosis_table"
   ]
  },
  {
   "cell_type": "markdown",
   "id": "63495084-85b6-420d-903d-f8620a0fb72d",
   "metadata": {},
   "source": [
    "Sehingga menghasilkan data analisis deskripsi statistik berikut:"
   ]
  },
  {
   "cell_type": "markdown",
   "id": "d1b47c77-fc2e-4492-ad88-538e3a7f92ba",
   "metadata": {},
   "source": [
    "| Variable   | Mean Value |Mode | Median | Range | IQR | Variance | STD Value | Skewness Value | Kurtosis Value |\n",
    "|:---------|:--------:|---------:| --------:| ------:|:------:|-----:|-----:|-------:|-----:|\n",
    "|  Curah Hujan (mm)  |  14.259504|  0.0  | 2.1|170.6 | 16.4 | 758.465596 | 27.540254 | 3.635598 | 16.575639 |\n",
    "|  Penjualan A (pcs) |  131.834711   |  0.0   |52.0|458.0 | 233.0 | 20049.672452 | 141.596866 | 0.708652 | -0.856078 |\n",
    "|  Penjualan B (pcs)|  205.545455  |  0.0 |157.0|545.0 | 244.0 | 25627.250000 | 160.085134 | 0.601558 | -0.815513 |"
   ]
  },
  {
   "cell_type": "markdown",
   "id": "4f4c6b65-752b-46f9-9ac4-7d9c83658199",
   "metadata": {},
   "source": [
    "\n"
   ]
  },
  {
   "cell_type": "markdown",
   "id": "b7ea1cf8-7261-4ab4-88a0-c7f931973bc4",
   "metadata": {},
   "source": [
    "## Visualisasi_Dataset"
   ]
  },
  {
   "cell_type": "code",
   "execution_count": 34,
   "id": "7e2d4bee-b213-4761-a51e-b2730bb36e56",
   "metadata": {},
   "outputs": [],
   "source": [
    "import pandas as pd\n",
    "import matplotlib.pyplot as plt\n",
    "import seaborn as sns"
   ]
  },
  {
   "cell_type": "code",
   "execution_count": 35,
   "id": "c2330651-e60c-4eba-adf3-e4ef5e3696c4",
   "metadata": {},
   "outputs": [],
   "source": [
    "bins_a = [0, 50, 100, 150, 200, 250, 300, 400, 500, 600]\n",
    "labels_a = ['0-50', '51-100', '101-150', '151-200', '201-250', '251-300', '301-400', '401-500', '501-600']\n",
    "penjualan_df['Penjualan A Binned'] = pd.cut(penjualan_df['Penjualan A (pcs)'], bins=bins_a, labels=labels_a, right=True)\n",
    "\n",
    "bins_b = [0, 50, 100, 150, 200, 250, 300, 400, 500, 600]\n",
    "labels_b = ['0-50', '51-100', '101-150', '151-200', '201-250', '251-300', '301-400', '401-500', '501-600']\n",
    "penjualan_df['Penjualan B Binned'] = pd.cut(penjualan_df['Penjualan B (pcs)'], bins=bins_b, labels=labels_b, right=True)\n",
    "\n",
    "bins_hujan = [0, 0.5, 20, 50, 100, 150, float('inf')]\n",
    "labels_hujan = ['0', '0.5-20', '20-50', '50-100', '100-150', '>150']\n",
    "penjualan_df['Curah Hujan Binned'] = pd.cut(penjualan_df['Curah Hujan (mm)'], bins=bins_hujan, labels=labels_hujan, right=True)"
   ]
  },
  {
   "cell_type": "markdown",
   "id": "7b70959e-5888-4895-b724-613966d699c7",
   "metadata": {},
   "source": [
    "### Data distribution"
   ]
  },
  {
   "cell_type": "markdown",
   "id": "d5cd7511-b87d-4b1a-a990-c0085355883a",
   "metadata": {},
   "source": [
    "- **Frequency Distribution Table**"
   ]
  },
  {
   "cell_type": "code",
   "execution_count": 37,
   "id": "caf15c42-d52a-4c3e-8cec-4a94bdd86798",
   "metadata": {},
   "outputs": [
    {
     "name": "stdout",
     "output_type": "stream",
     "text": [
      "FReq of Penjualan A (pcs) to Curah Hujan (mm)\n",
      "╒══════════════════════╤════════╤══════════╤═══════════╤═══════════╤═══════════╤═══════════╤═══════════╤═══════════╕\n",
      "│ Curah Hujan Binned   │   0-50 │   51-100 │   101-150 │   151-200 │   201-250 │   251-300 │   301-400 │   401-500 │\n",
      "╞══════════════════════╪════════╪══════════╪═══════════╪═══════════╪═══════════╪═══════════╪═══════════╪═══════════╡\n",
      "│ 0                    │      2 │        0 │         0 │         0 │         2 │         0 │         0 │         0 │\n",
      "├──────────────────────┼────────┼──────────┼───────────┼───────────┼───────────┼───────────┼───────────┼───────────┤\n",
      "│ 0.5-20               │     14 │        1 │         5 │         2 │         8 │         3 │         7 │         6 │\n",
      "├──────────────────────┼────────┼──────────┼───────────┼───────────┼───────────┼───────────┼───────────┼───────────┤\n",
      "│ 20-50                │      6 │        0 │         0 │         4 │         1 │         0 │         3 │         0 │\n",
      "├──────────────────────┼────────┼──────────┼───────────┼───────────┼───────────┼───────────┼───────────┼───────────┤\n",
      "│ 50-100               │      0 │        0 │         0 │         0 │         2 │         2 │         1 │         0 │\n",
      "├──────────────────────┼────────┼──────────┼───────────┼───────────┼───────────┼───────────┼───────────┼───────────┤\n",
      "│ 100-150              │      0 │        0 │         0 │         1 │         0 │         0 │         0 │         0 │\n",
      "├──────────────────────┼────────┼──────────┼───────────┼───────────┼───────────┼───────────┼───────────┼───────────┤\n",
      "│ >150                 │      0 │        0 │         0 │         0 │         0 │         0 │         2 │         0 │\n",
      "╘══════════════════════╧════════╧══════════╧═══════════╧═══════════╧═══════════╧═══════════╧═══════════╧═══════════╛\n",
      "FReq of Penjualan B (pcs) to Curah Hujan (mm)\n",
      "╒══════════════════════╤════════╤══════════╤═══════════╤═══════════╤═══════════╤═══════════╤═══════════╤═══════════╤═══════════╕\n",
      "│ Curah Hujan Binned   │   0-50 │   51-100 │   101-150 │   151-200 │   201-250 │   251-300 │   301-400 │   401-500 │   501-600 │\n",
      "╞══════════════════════╪════════╪══════════╪═══════════╪═══════════╪═══════════╪═══════════╪═══════════╪═══════════╪═══════════╡\n",
      "│ 0                    │      2 │        0 │         0 │         1 │         0 │         0 │         0 │         0 │         1 │\n",
      "├──────────────────────┼────────┼──────────┼───────────┼───────────┼───────────┼───────────┼───────────┼───────────┼───────────┤\n",
      "│ 0.5-20               │      6 │        7 │        15 │         3 │         5 │         3 │         3 │         6 │         4 │\n",
      "├──────────────────────┼────────┼──────────┼───────────┼───────────┼───────────┼───────────┼───────────┼───────────┼───────────┤\n",
      "│ 20-50                │      2 │        2 │         2 │         2 │         2 │         0 │         0 │         3 │         1 │\n",
      "├──────────────────────┼────────┼──────────┼───────────┼───────────┼───────────┼───────────┼───────────┼───────────┼───────────┤\n",
      "│ 50-100               │      1 │        1 │         1 │         2 │         1 │         0 │         0 │         0 │         0 │\n",
      "├──────────────────────┼────────┼──────────┼───────────┼───────────┼───────────┼───────────┼───────────┼───────────┼───────────┤\n",
      "│ 100-150              │      0 │        0 │         0 │         0 │         1 │         0 │         0 │         0 │         0 │\n",
      "├──────────────────────┼────────┼──────────┼───────────┼───────────┼───────────┼───────────┼───────────┼───────────┼───────────┤\n",
      "│ >150                 │      0 │        0 │         0 │         0 │         1 │         1 │         0 │         0 │         0 │\n",
      "╘══════════════════════╧════════╧══════════╧═══════════╧═══════════╧═══════════╧═══════════╧═══════════╧═══════════╧═══════════╛\n"
     ]
    }
   ],
   "source": [
    "from tabulate import tabulate\n",
    "freq_table_a = pd.crosstab(penjualan_df['Curah Hujan Binned'], penjualan_df['Penjualan A Binned']) \n",
    "freq_table_b = pd.crosstab(penjualan_df['Curah Hujan Binned'], penjualan_df['Penjualan B Binned']) \n",
    "\n",
    "print(\"FReq of Penjualan A (pcs) to Curah Hujan (mm)\")\n",
    "print(tabulate(freq_table_a, headers='keys', tablefmt='fancy_grid', showindex=True))\n",
    "print(\"FReq of Penjualan B (pcs) to Curah Hujan (mm)\")\n",
    "print(tabulate(freq_table_b, headers='keys', tablefmt='fancy_grid', showindex=True))"
   ]
  },
  {
   "cell_type": "markdown",
   "id": "0893e0b1-51b3-40c0-88e2-7bc20bc6d00c",
   "metadata": {},
   "source": [
    "or, in each variable:"
   ]
  },
  {
   "cell_type": "code",
   "execution_count": 39,
   "id": "4101d3cc-c220-4066-b58a-50142931621d",
   "metadata": {},
   "outputs": [
    {
     "data": {
      "text/html": [
       "<div>\n",
       "<style scoped>\n",
       "    .dataframe tbody tr th:only-of-type {\n",
       "        vertical-align: middle;\n",
       "    }\n",
       "\n",
       "    .dataframe tbody tr th {\n",
       "        vertical-align: top;\n",
       "    }\n",
       "\n",
       "    .dataframe thead th {\n",
       "        text-align: right;\n",
       "    }\n",
       "</style>\n",
       "<table border=\"1\" class=\"dataframe\">\n",
       "  <thead>\n",
       "    <tr style=\"text-align: right;\">\n",
       "      <th></th>\n",
       "      <th>Penjualan A (pcs)</th>\n",
       "      <th>Frequency</th>\n",
       "    </tr>\n",
       "  </thead>\n",
       "  <tbody>\n",
       "    <tr>\n",
       "      <th>0</th>\n",
       "      <td>0-50</td>\n",
       "      <td>35</td>\n",
       "    </tr>\n",
       "    <tr>\n",
       "      <th>1</th>\n",
       "      <td>301-400</td>\n",
       "      <td>14</td>\n",
       "    </tr>\n",
       "    <tr>\n",
       "      <th>2</th>\n",
       "      <td>201-250</td>\n",
       "      <td>13</td>\n",
       "    </tr>\n",
       "    <tr>\n",
       "      <th>3</th>\n",
       "      <td>151-200</td>\n",
       "      <td>9</td>\n",
       "    </tr>\n",
       "    <tr>\n",
       "      <th>4</th>\n",
       "      <td>101-150</td>\n",
       "      <td>8</td>\n",
       "    </tr>\n",
       "    <tr>\n",
       "      <th>5</th>\n",
       "      <td>401-500</td>\n",
       "      <td>7</td>\n",
       "    </tr>\n",
       "    <tr>\n",
       "      <th>6</th>\n",
       "      <td>251-300</td>\n",
       "      <td>6</td>\n",
       "    </tr>\n",
       "    <tr>\n",
       "      <th>7</th>\n",
       "      <td>51-100</td>\n",
       "      <td>5</td>\n",
       "    </tr>\n",
       "    <tr>\n",
       "      <th>8</th>\n",
       "      <td>501-600</td>\n",
       "      <td>0</td>\n",
       "    </tr>\n",
       "  </tbody>\n",
       "</table>\n",
       "</div>"
      ],
      "text/plain": [
       "  Penjualan A (pcs)  Frequency\n",
       "0              0-50         35\n",
       "1           301-400         14\n",
       "2           201-250         13\n",
       "3           151-200          9\n",
       "4           101-150          8\n",
       "5           401-500          7\n",
       "6           251-300          6\n",
       "7            51-100          5\n",
       "8           501-600          0"
      ]
     },
     "execution_count": 39,
     "metadata": {},
     "output_type": "execute_result"
    }
   ],
   "source": [
    "freq_value = penjualan_df['Penjualan A Binned'].value_counts()\n",
    "freq_table = freq_value.reset_index()\n",
    "freq_table.columns = ['Penjualan A (pcs)', 'Frequency']\n",
    "freq_table"
   ]
  },
  {
   "cell_type": "code",
   "execution_count": 40,
   "id": "d2e8786a-ae4f-4ed9-94fc-cd0099ef3213",
   "metadata": {},
   "outputs": [
    {
     "data": {
      "text/html": [
       "<div>\n",
       "<style scoped>\n",
       "    .dataframe tbody tr th:only-of-type {\n",
       "        vertical-align: middle;\n",
       "    }\n",
       "\n",
       "    .dataframe tbody tr th {\n",
       "        vertical-align: top;\n",
       "    }\n",
       "\n",
       "    .dataframe thead th {\n",
       "        text-align: right;\n",
       "    }\n",
       "</style>\n",
       "<table border=\"1\" class=\"dataframe\">\n",
       "  <thead>\n",
       "    <tr style=\"text-align: right;\">\n",
       "      <th></th>\n",
       "      <th>Penjualan B (pcs)</th>\n",
       "      <th>Frequency</th>\n",
       "    </tr>\n",
       "  </thead>\n",
       "  <tbody>\n",
       "    <tr>\n",
       "      <th>0</th>\n",
       "      <td>101-150</td>\n",
       "      <td>22</td>\n",
       "    </tr>\n",
       "    <tr>\n",
       "      <th>1</th>\n",
       "      <td>0-50</td>\n",
       "      <td>16</td>\n",
       "    </tr>\n",
       "    <tr>\n",
       "      <th>2</th>\n",
       "      <td>401-500</td>\n",
       "      <td>16</td>\n",
       "    </tr>\n",
       "    <tr>\n",
       "      <th>3</th>\n",
       "      <td>51-100</td>\n",
       "      <td>13</td>\n",
       "    </tr>\n",
       "    <tr>\n",
       "      <th>4</th>\n",
       "      <td>151-200</td>\n",
       "      <td>12</td>\n",
       "    </tr>\n",
       "    <tr>\n",
       "      <th>5</th>\n",
       "      <td>201-250</td>\n",
       "      <td>11</td>\n",
       "    </tr>\n",
       "    <tr>\n",
       "      <th>6</th>\n",
       "      <td>301-400</td>\n",
       "      <td>10</td>\n",
       "    </tr>\n",
       "    <tr>\n",
       "      <th>7</th>\n",
       "      <td>251-300</td>\n",
       "      <td>7</td>\n",
       "    </tr>\n",
       "    <tr>\n",
       "      <th>8</th>\n",
       "      <td>501-600</td>\n",
       "      <td>7</td>\n",
       "    </tr>\n",
       "  </tbody>\n",
       "</table>\n",
       "</div>"
      ],
      "text/plain": [
       "  Penjualan B (pcs)  Frequency\n",
       "0           101-150         22\n",
       "1              0-50         16\n",
       "2           401-500         16\n",
       "3            51-100         13\n",
       "4           151-200         12\n",
       "5           201-250         11\n",
       "6           301-400         10\n",
       "7           251-300          7\n",
       "8           501-600          7"
      ]
     },
     "execution_count": 40,
     "metadata": {},
     "output_type": "execute_result"
    }
   ],
   "source": [
    "freq_value = penjualan_df['Penjualan B Binned'].value_counts()\n",
    "freq_table = freq_value.reset_index()\n",
    "freq_table.columns = ['Penjualan B (pcs)', 'Frequency']\n",
    "freq_table"
   ]
  },
  {
   "cell_type": "code",
   "execution_count": 41,
   "id": "070efd88-35de-43c9-ae52-2b9ee265d209",
   "metadata": {},
   "outputs": [
    {
     "data": {
      "text/html": [
       "<div>\n",
       "<style scoped>\n",
       "    .dataframe tbody tr th:only-of-type {\n",
       "        vertical-align: middle;\n",
       "    }\n",
       "\n",
       "    .dataframe tbody tr th {\n",
       "        vertical-align: top;\n",
       "    }\n",
       "\n",
       "    .dataframe thead th {\n",
       "        text-align: right;\n",
       "    }\n",
       "</style>\n",
       "<table border=\"1\" class=\"dataframe\">\n",
       "  <thead>\n",
       "    <tr style=\"text-align: right;\">\n",
       "      <th></th>\n",
       "      <th>Curah Hujan (mm)</th>\n",
       "      <th>Frequency</th>\n",
       "    </tr>\n",
       "  </thead>\n",
       "  <tbody>\n",
       "    <tr>\n",
       "      <th>0</th>\n",
       "      <td>0.5-20</td>\n",
       "      <td>56</td>\n",
       "    </tr>\n",
       "    <tr>\n",
       "      <th>1</th>\n",
       "      <td>20-50</td>\n",
       "      <td>15</td>\n",
       "    </tr>\n",
       "    <tr>\n",
       "      <th>2</th>\n",
       "      <td>50-100</td>\n",
       "      <td>6</td>\n",
       "    </tr>\n",
       "    <tr>\n",
       "      <th>3</th>\n",
       "      <td>0</td>\n",
       "      <td>5</td>\n",
       "    </tr>\n",
       "    <tr>\n",
       "      <th>4</th>\n",
       "      <td>&gt;150</td>\n",
       "      <td>2</td>\n",
       "    </tr>\n",
       "    <tr>\n",
       "      <th>5</th>\n",
       "      <td>100-150</td>\n",
       "      <td>1</td>\n",
       "    </tr>\n",
       "  </tbody>\n",
       "</table>\n",
       "</div>"
      ],
      "text/plain": [
       "  Curah Hujan (mm)  Frequency\n",
       "0           0.5-20         56\n",
       "1            20-50         15\n",
       "2           50-100          6\n",
       "3                0          5\n",
       "4             >150          2\n",
       "5          100-150          1"
      ]
     },
     "execution_count": 41,
     "metadata": {},
     "output_type": "execute_result"
    }
   ],
   "source": [
    "freq_value = penjualan_df['Curah Hujan Binned'].value_counts()\n",
    "freq_table = freq_value.reset_index()\n",
    "freq_table.columns = ['Curah Hujan (mm)', 'Frequency']\n",
    "freq_table"
   ]
  },
  {
   "cell_type": "markdown",
   "id": "71d8ab26-906a-4fad-bbbb-7fad29fd542f",
   "metadata": {},
   "source": [
    "### Histogram"
   ]
  },
  {
   "cell_type": "code",
   "execution_count": 44,
   "id": "4f6e4509-5322-43b2-989f-55d05e39b9e8",
   "metadata": {},
   "outputs": [
    {
     "data": {
      "image/png": "[encoded data removed]",
      "text/plain": [
       "<Figure size 1000x600 with 1 Axes>"
      ]
     },
     "metadata": {},
     "output_type": "display_data"
    }
   ],
   "source": [
    "plt.figure(figsize=(10,6))\n",
    "sns.histplot(penjualan_df['Curah Hujan Binned'], color='lightgrey', edgecolor='grey')\n",
    "\n",
    "plt.xlabel('Curah Hujan(Binned)')\n",
    "plt.ylabel('Frequency')\n",
    "plt.title('Histogram of Curah Hujan Binned')\n",
    "\n",
    "plt.show()"
   ]
  },
  {
   "cell_type": "code",
   "execution_count": 50,
   "id": "f6122eba-f020-48c6-b890-ccd993e896a1",
   "metadata": {},
   "outputs": [
    {
     "data": {
      "image/png": "[encoded data removed]",
      "text/plain": [
       "<Figure size 1000x600 with 1 Axes>"
      ]
     },
     "metadata": {},
     "output_type": "display_data"
    }
   ],
   "source": [
    "plt.figure(figsize=(10,6))\n",
    "sns.histplot(penjualan_df['Penjualan A Binned'], color='lightblue', edgecolor='purple')\n",
    "\n",
    "plt.xlabel('Penjualan A (Binned)')\n",
    "plt.ylabel('Frequency')\n",
    "plt.title('Histogram of Penjualan A Binned')\n",
    "\n",
    "plt.show()"
   ]
  },
  {
   "cell_type": "code",
   "execution_count": 54,
   "id": "ad8aaaef-9cae-41cd-8367-610403f00314",
   "metadata": {},
   "outputs": [
    {
     "data": {
      "image/png": "[encoded data removed]",
      "text/plain": [
       "<Figure size 1000x600 with 1 Axes>"
      ]
     },
     "metadata": {},
     "output_type": "display_data"
    }
   ],
   "source": [
    "plt.figure(figsize=(10,6))\n",
    "sns.histplot(penjualan_df['Penjualan B Binned'], color='darkred', edgecolor='yellow')\n",
    "\n",
    "plt.xlabel('Penjualan B (Binned)')\n",
    "plt.ylabel('Frequency')\n",
    "plt.title('Histogram of Penjualan B Binned')\n",
    "\n",
    "plt.show()"
   ]
  },
  {
   "cell_type": "code",
   "execution_count": 176,
   "id": "3b676445-e12b-4758-8f1d-0380ed7ce0bf",
   "metadata": {},
   "outputs": [
    {
     "data": {
      "image/png": "[encoded data removed]",
      "text/plain": [
       "<Figure size 1000x600 with 1 Axes>"
      ]
     },
     "metadata": {},
     "output_type": "display_data"
    }
   ],
   "source": [
    "plt.figure(figsize=(10,6))\n",
    "sns.histplot(penjualan_df['Penjualan A Binned'], color='lightblue', edgecolor='purple', label='Penjualan A', alpha=0.6)\n",
    "sns.histplot(penjualan_df['Penjualan B Binned'], color='darkred', edgecolor='yellow', label='Penjualan B', alpha=0.6)\n",
    "\n",
    "plt.xlabel('Penjualan (Binned)')\n",
    "plt.ylabel('Frequency')\n",
    "plt.title('Combined Histogram of Penjualan A and B Binned')\n",
    "plt.legend()\n",
    "\n",
    "# Show the plot\n",
    "plt.show()\n"
   ]
  },
  {
   "cell_type": "markdown",
   "id": "182ba823-02fc-45d8-8be1-cb617d907c80",
   "metadata": {},
   "source": [
    "### Frequency Polygon"
   ]
  },
  {
   "cell_type": "code",
   "execution_count": 86,
   "id": "bdf23cad-3b58-49e3-b9bf-4a398a278145",
   "metadata": {},
   "outputs": [
    {
     "data": {
      "image/png": "[encoded data removed]",
      "text/plain": [
       "<Figure size 1000x600 with 1 Axes>"
      ]
     },
     "metadata": {},
     "output_type": "display_data"
    }
   ],
   "source": [
    "plt.figure(figsize=(10, 6))\n",
    "counts, bins = np.histogram(penjualan_df['Penjualan A (pcs)'], bins=10)\n",
    "\n",
    "bin_midpoints = (bins[:-1] + bins[1:]) / 2\n",
    "plt.plot(bin_midpoints, counts, marker='o', linestyle='-', color='blue')  \n",
    "\n",
    "plt.xlabel('Penjualan A (pcs)')\n",
    "plt.ylabel('Frequency')\n",
    "plt.title('Polygon Frequency Diagram of Penjualan A')\n",
    "plt.show()"
   ]
  },
  {
   "cell_type": "code",
   "execution_count": 84,
   "id": "2f08961b-910e-4a50-9aac-398d4aa638fd",
   "metadata": {},
   "outputs": [
    {
     "data": {
      "image/png": "[encoded data removed]",
      "text/plain": [
       "<Figure size 1000x600 with 1 Axes>"
      ]
     },
     "metadata": {},
     "output_type": "display_data"
    }
   ],
   "source": [
    "plt.figure(figsize=(10, 6))\n",
    "counts, bins = np.histogram(penjualan_df['Penjualan B (pcs)'], bins=10)\n",
    "\n",
    "bin_midpoints = (bins[:-1] + bins[1:]) / 2\n",
    "plt.plot(bin_midpoints, counts, marker='o', linestyle='-', color='red')  \n",
    "\n",
    "plt.xlabel('Penjualan B (pcs)')\n",
    "plt.ylabel('Frequency')\n",
    "plt.title('Polygon Frequency Diagram of Penjualan B')\n",
    "plt.show()"
   ]
  },
  {
   "cell_type": "code",
   "execution_count": 82,
   "id": "a0f29492-c3f2-465e-9120-c7f4cff6f2e8",
   "metadata": {},
   "outputs": [
    {
     "data": {
      "image/png": "[encoded data removed]",
      "text/plain": [
       "<Figure size 1000x600 with 1 Axes>"
      ]
     },
     "metadata": {},
     "output_type": "display_data"
    }
   ],
   "source": [
    "plt.figure(figsize=(10, 6))\n",
    "counts, bins = np.histogram(penjualan_df['Curah Hujan (mm)'], bins=10)\n",
    "\n",
    "bin_midpoints = (bins[:-1] + bins[1:]) / 2\n",
    "plt.plot(bin_midpoints, counts, marker='o', linestyle='-', color='green')  \n",
    "\n",
    "plt.xlabel('Curah Hujan (mm)')\n",
    "plt.ylabel('Frequency')\n",
    "plt.title('Polygon Frequency Diagram of Curah Hujan')\n",
    "plt.show()"
   ]
  },
  {
   "cell_type": "markdown",
   "id": "713b14b5-234c-4945-a231-fd4c4a620bc1",
   "metadata": {},
   "source": [
    "### Boxplot"
   ]
  },
  {
   "cell_type": "markdown",
   "id": "6dd376f6-2c1a-4998-89f4-e8bf17cf5897",
   "metadata": {},
   "source": [
    "- **Boxplot Penjualan A (pcs) dengan Curah Hujan (mm)**"
   ]
  },
  {
   "cell_type": "code",
   "execution_count": 66,
   "id": "fbce1eca-e527-4b10-bbb7-7fc3af6866b9",
   "metadata": {},
   "outputs": [
    {
     "data": {
      "image/png": "[encoded data removed]",
      "text/plain": [
       "<Figure size 1000x600 with 1 Axes>"
      ]
     },
     "metadata": {},
     "output_type": "display_data"
    }
   ],
   "source": [
    "plt.figure(figsize=(10, 6))\n",
    "sns.boxplot(data=penjualan_df, x='Penjualan A Binned', y='Curah Hujan Binned')\n",
    "\n",
    "plt.title('Box Plot of Penjualan A (pcs) vs Curah Hujan (mm)')\n",
    "plt.xlabel('Penjualan A (pcs)')\n",
    "plt.ylabel('Curah Hujan (mm)')\n",
    "plt.show()"
   ]
  },
  {
   "cell_type": "markdown",
   "id": "e6dc4073-a81a-4919-a5bd-41dd7499f1ab",
   "metadata": {},
   "source": [
    "- **Boxplot Penjualan B (pcs) dengan Curah Hujan (mm)**"
   ]
  },
  {
   "cell_type": "code",
   "execution_count": 69,
   "id": "42fff737-77f1-4122-a753-e041056c2ddd",
   "metadata": {},
   "outputs": [
    {
     "data": {
      "image/png": "[encoded data removed]",
      "text/plain": [
       "<Figure size 1000x600 with 1 Axes>"
      ]
     },
     "metadata": {},
     "output_type": "display_data"
    }
   ],
   "source": [
    "plt.figure(figsize=(10, 6))\n",
    "sns.boxplot(data=penjualan_df, x='Penjualan B Binned', y='Curah Hujan Binned')\n",
    "\n",
    "plt.title('Box Plot of Penjualan B (pcs) vs Curah Hujan (mm)')\n",
    "plt.xlabel('Penjualan B (pcs)')\n",
    "plt.ylabel('Curah Hujan (mm)')\n",
    "plt.show()"
   ]
  },
  {
   "cell_type": "markdown",
   "id": "ea61e94f-3585-4e78-b3b3-ca3e9ef71498",
   "metadata": {},
   "source": [
    "## **| Hasil EDA |**"
   ]
  },
  {
   "cell_type": "markdown",
   "id": "6462821b-0840-4356-ba05-18233e8af206",
   "metadata": {},
   "source": [
    "Secara general, boxplot:"
   ]
  },
  {
   "cell_type": "markdown",
   "id": "2ec891bc-0023-4a71-84bb-2c8c270e7e65",
   "metadata": {},
   "source": [
    "1. Fungsi Boxplot: Boxplot digunakan untuk memberikan gambaran visual tentang distribusi data dan mengidentifikasi outlier. Secara khusus, boxplot menampilkan:\n",
    "\n",
    "- Median (garis di dalam box) yang menunjukkan nilai tengah data.\n",
    "- Interquartile Range (IQR) atau rentang antar-kuartil yang mewakili persebaran data di antara kuartil pertama (Q1) dan kuartil ketiga (Q3).\n",
    "- Whiskers yang menunjukkan rentang data yang masih dianggap normal, biasanya dihitung dari Q1 - 1.5IQR hingga Q3 + 1.5IQR.\n",
    "- Outlier sebagai titik-titik yang berada di luar whiskers.\n",
    "\n",
    "2. Perbedaan Boxplot dengan Histogram:\n",
    "- Boxplot menyoroti rangkuman statistik lima angka (minimum, Q1, median, Q3, dan maksimum) dan menunjukkan outlier secara jelas, tanpa memberikan informasi spesifik tentang distribusi frekuensi pada rentang nilai tertentu.\n",
    "- Histogram menampilkan distribusi frekuensi data dalam interval yang ditentukan. Ini berguna untuk melihat pola distribusi dan kemiringan (skewness), tetapi tidak secara langsung menunjukkan outlier."
   ]
  },
  {
   "cell_type": "markdown",
   "id": "87e01dc4-4908-415b-8927-beb86eb491e3",
   "metadata": {},
   "source": [
    " "
   ]
  },
  {
   "cell_type": "markdown",
   "id": "f1c15c4d-be23-4c84-817a-01e93f23bb20",
   "metadata": {},
   "source": [
    "### **| Interpretasi Outlier |**"
   ]
  },
  {
   "cell_type": "markdown",
   "id": "6083b36e-189f-403d-8445-79e4c282e50c",
   "metadata": {},
   "source": [
    "Berdasarkan analisis boxplot yang telah divisualisasikan, kita dapat mengamati beberapa hal:\n",
    "\n",
    "- **Adanya Outlier:** Terdapat beberapa titik data yang terletak jauh di atas whisker atas pada beberapa kategori \"Penjualan A (pcs)\". Ini mengindikasikan adanya outlier, yaitu nilai yang jauh berbeda dari data lainnya dalam kategori tersebut.\n",
    "- **Tingkat Ekstrem**: Tingkat ekstrem dari outlier bervariasi pada setiap kategori. Beberapa kategori memiliki outlier yang sangat jauh, sementara yang lain memiliki outlier yang tidak terlalu ekstrem.\n",
    "- **Distribusi Data**: Secara umum, distribusi data cenderung tidak simetris (skewed) ke kanan, terutama pada kategori dengan penjualan yang lebih tinggi. Ini menunjukkan adanya beberapa nilai yang sangat tinggi yang menarik rata-rata ke atas."
   ]
  },
  {
   "cell_type": "markdown",
   "id": "ef4fa00b-a51f-43f3-81d2-16346afd7415",
   "metadata": {},
   "source": [
    " "
   ]
  },
  {
   "cell_type": "markdown",
   "id": "6a4bed78-0a83-4668-baf1-4771ad688291",
   "metadata": {},
   "source": [
    "### **|Kesimpulan|**"
   ]
  },
  {
   "cell_type": "markdown",
   "id": "7ed5cabc-32f6-4b1a-9c7e-359935702886",
   "metadata": {},
   "source": [
    "- **Analisis Histogram dan Boxplot Penjualan A :**\n"
   ]
  },
  {
   "cell_type": "markdown",
   "id": "7d7b78c4-d919-449e-93b2-466f14395375",
   "metadata": {},
   "source": [
    "**Identifikasi Outlier**\n",
    "\n",
    "Berdasarkan box plot yang diberikan, terlihat adanya beberapa outlier. Pada plot ini, outlier ditandai dengan titik-titik yang berada di luar \"kumis\" (whisker) box plot.\n",
    "\n",
    "Outlier ini mengindikasikan adanya data penjualan atau curah hujan yang ekstrim atau tidak mengikuti pola umum dari data lainnya. Hal ini bisa disebabkan oleh faktor-faktor khusus seperti promo besar-besaran, cuaca buruk yang tidak biasa, atau kesalahan dalam pencatatan data.\n",
    "\n",
    "**Interpretasi Hasil Analisis Deskriptif**\n",
    "\n",
    "- Persebaran Data:\n",
    "  - Curah Hujan: Sebagian besar data curah hujan terkonsentrasi pada rentang 0-50 mm dan 251-300 mm. Terdapat sedikit variasi pada rentang curah hujan lainnya.\n",
    "  - Penjualan A: Penjualan A cenderung lebih tersebar, namun terlihat adanya konsentrasi pada rentang 251-300 pcs dan 301-400 pcs.\n",
    "- Outlier:\n",
    "  - Curah Hujan: Terdapat beberapa outlier pada kategori penjualan yang lebih tinggi, mengindikasikan adanya penjualan yang tinggi meskipun curah hujan rendah.\n",
    "  - Penjualan A: Terdapat beberapa outlier pada kategori curah hujan yang lebih tinggi, mengindikasikan adanya penjualan yang rendah meskipun curah hujan tinggi.\n",
    "- Bentuk Distribusi:\n",
    "  - Secara umum, distribusi data tidak sepenuhnya normal. Adanya outlier dan konsentrasi data pada rentang tertentu menunjukkan bahwa distribusi data cenderung miring (skewed).\n",
    "\n",
    "**Kesimpulan**\n",
    "\n",
    "Analisis box plot menunjukkan bahwa hubungan antara penjualan A dan curah hujan tidak sederhana. Adanya outlier dan distribusi data yang tidak normal mengindikasikan bahwa faktor lain selain curah hujan mungkin juga mempengaruhi penjualan."
   ]
  },
  {
   "cell_type": "markdown",
   "id": "17c01404-306b-4bb4-b5c7-95c788c80f3b",
   "metadata": {},
   "source": [
    "- **Analisis Histogram dan Boxplot Penjualan B:**"
   ]
  },
  {
   "cell_type": "markdown",
   "id": "022f270e-3f50-48f8-af28-4133ca74b60c",
   "metadata": {},
   "source": [
    "**Pada visualisasi data, kita dapat menyimpulkan analisis perbandingan Penjualan A dan B:**\n",
    "\n",
    "1. Persebaran penjualan B lebih merata dibandingkan Pemjualan A. \n",
    "2. Penjualan B lebih banyak terjual pada curah hujan 101-150 mm\n",
    "3. Tidak seperti penjualan A yang kurang merata, Penjualan B pada tabel histogram mengindikasikan bahwa penjualan lebih tersebar di setiap rentang curah hujan.\n",
    "    \n",
    "**Outlier :**\n",
    "\n",
    "Banyaknya penjualan pada curah hujan yang terbilang rendah pada kategori penjualan ini yaitu 101-150 mm. Dapat disimpulkan rendahnya curah hujan akan lebih menguntungkan, berdasarkan grafik histogram diatas.\n",
    "Secara umum penjualan B memiliki kemiringan menurun (skew) pada curah hujan yang tinggi tepatnya pada rentan 251-300.\n",
    "\n",
    "**Boxplot :**\n",
    "\n",
    "Dari grafik boxplot menandakan bahwa penjualan B memiliki distribusi yang cukup acak. Penjualan B  dan curah hujan tidak memiliki hubungan yang linear. Tinggi atau rendahnya curah hujan tidak menjadi hambatan untuk larisnya penjualan.\n",
    "\n",
    "**Kesimpulan**\n",
    "\n",
    "Berdasarkan visualisasi box plot, dapat disimpulkan bahwa terdapat outlier pada data. Outlier ini terutama ditemukan pada variabel \"Curah Hujan (mm)\" untuk kategori \"Penjualan A (pcs)\" tertentu, di mana nilai curah hujan jauh lebih tinggi dibandingkan dengan data lainnya dalam kategori yang sama."
   ]
  },
  {
   "cell_type": "markdown",
   "id": "78947a99-6b74-471b-80ec-16ac8b2bf3fa",
   "metadata": {},
   "source": [
    "*https://drive.google.com/file/d/1z0sUbH2HyLXICw47rMLPW7XiLyUi9t98/view?usp=sharing*"
   ]
  }
 ],
 "metadata": {
  "kernelspec": {
   "display_name": "Python 3 (ipykernel)",
   "language": "python",
   "name": "python3"
  },
  "language_info": {
   "codemirror_mode": {
    "name": "ipython",
    "version": 3
   },
   "file_extension": ".py",
   "mimetype": "text/x-python",
   "name": "python",
   "nbconvert_exporter": "python",
   "pygments_lexer": "ipython3",
   "version": "3.12.4"
  }
 },
 "nbformat": 4,
 "nbformat_minor": 5
}
